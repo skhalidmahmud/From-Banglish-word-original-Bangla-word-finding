{
 "cells": [
  {
   "cell_type": "markdown",
   "id": "8fc296f5",
   "metadata": {},
   "source": [
    "# From Banglish word original Bangla word finding :\n",
    "## This is a project for our course: \"Project Management\"."
   ]
  },
  {
   "cell_type": "markdown",
   "id": "8767deab",
   "metadata": {},
   "source": [
    "## Group Members:\n",
    "    * Khalid Mahmud\n",
    "    * Antora Ghosh"
   ]
  },
  {
   "cell_type": "markdown",
   "id": "55a89d52",
   "metadata": {},
   "source": [
    "## Import segment :"
   ]
  },
  {
   "cell_type": "code",
   "execution_count": 1,
   "id": "61ac7569",
   "metadata": {},
   "outputs": [],
   "source": [
    "#import pandas as pd\n",
    "#import numpy as np\n",
    "import csv\n",
    "#import matplotlib.pyplot as plt\n",
    "#import seaborn as sns\n",
    "\n",
    "import warnings\n",
    "warnings.filterwarnings('always')\n",
    "warnings.filterwarnings('ignore')"
   ]
  },
  {
   "cell_type": "markdown",
   "id": "6ebfabfc",
   "metadata": {},
   "source": [
    "# Load all Database:"
   ]
  },
  {
   "cell_type": "markdown",
   "id": "166be04a",
   "metadata": {},
   "source": [
    "## Load Banglish to Bangla dataset :"
   ]
  },
  {
   "cell_type": "code",
   "execution_count": 2,
   "id": "893867cc",
   "metadata": {},
   "outputs": [],
   "source": [
    "f = r'./data/ben2bn.csv'\n",
    "\n",
    "checkb2b = 0\n",
    "\n",
    "with open(f,encoding='utf-8-sig') as file:\n",
    "    b2bRows = file.readlines()"
   ]
  },
  {
   "cell_type": "markdown",
   "id": "610ab2e7",
   "metadata": {},
   "source": [
    "## Load Banglish to Bangla generator dataset as \"data\" :"
   ]
  },
  {
   "cell_type": "code",
   "execution_count": 28,
   "id": "add6cb61",
   "metadata": {},
   "outputs": [
    {
     "name": "stdout",
     "output_type": "stream",
     "text": [
      "3\n"
     ]
    }
   ],
   "source": [
    "data=[]\n",
    "f = r'./data/banGenerator.csv'\n",
    "\n",
    "with open(f,encoding='utf-8-sig') as csvfile:\n",
    "    reader = csv.reader(csvfile)\n",
    "    for row in reader:\n",
    "        data.append(row)\n",
    "col = [x[0] for x in data]\n",
    "\n",
    "print(len(data[17]))"
   ]
  },
  {
   "cell_type": "markdown",
   "id": "caddd036",
   "metadata": {},
   "source": [
    "## Load Bangla word list as Bwl_40, Bwl_48, Bwl_112, Bwl_439 :"
   ]
  },
  {
   "cell_type": "code",
   "execution_count": 4,
   "id": "6b56ba31",
   "metadata": {},
   "outputs": [],
   "source": [
    "## this is for 40k bangla word\n",
    "f = r'./data/BengaliWordList_40.txt'\n",
    "\n",
    "with open(f,encoding='utf-8-sig') as txt:\n",
    "    contents = txt.read()\n",
    "    bwl_40 = contents.splitlines()\n",
    "\n",
    "## this is for 48k bangla word\n",
    "f = r'./data/BengaliWordList_48.txt'\n",
    "\n",
    "with open(f,encoding='utf-8-sig') as txt:\n",
    "    contents = txt.read()\n",
    "    bwl_48 = contents.splitlines()\n",
    "\n",
    "## this is for 112k bangla word\n",
    "f = r'./data/BengaliWordList_112.txt'\n",
    "\n",
    "with open(f,encoding='utf-8-sig') as txt:\n",
    "    contents = txt.read()\n",
    "    bwl_112 = contents.splitlines()\n",
    "\n",
    "## this is for 439k bangla word\n",
    "f = r'./data/BengaliWordList_439.txt'\n",
    "\n",
    "with open(f,encoding='utf-8-sig') as txt:\n",
    "    contents = txt.read()\n",
    "    bwl_439 = contents.splitlines()"
   ]
  },
  {
   "cell_type": "markdown",
   "id": "35ccb7aa",
   "metadata": {},
   "source": [
    "### Check bwl (Bangla Word List) :"
   ]
  },
  {
   "cell_type": "raw",
   "id": "9479722e",
   "metadata": {},
   "source": [
    "for line in bwl_48:\n",
    "    print(line)"
   ]
  },
  {
   "cell_type": "markdown",
   "id": "4be1f15b",
   "metadata": {},
   "source": [
    "# Get input from user:"
   ]
  },
  {
   "cell_type": "code",
   "execution_count": 5,
   "id": "484a9d9d",
   "metadata": {},
   "outputs": [
    {
     "name": "stdout",
     "output_type": "stream",
     "text": [
      "Enter a Banglish word: ritu\n"
     ]
    }
   ],
   "source": [
    "banglish = input(\"Enter a Banglish word: \")"
   ]
  },
  {
   "cell_type": "markdown",
   "id": "fa26ea21",
   "metadata": {},
   "source": [
    "## Compare get data with B2B dataset :"
   ]
  },
  {
   "cell_type": "code",
   "execution_count": 6,
   "id": "53e5054d",
   "metadata": {},
   "outputs": [
    {
     "name": "stdout",
     "output_type": "stream",
     "text": [
      "রিতু\n"
     ]
    }
   ],
   "source": [
    "b2b_notfound = 1\n",
    "for row in b2bRows:\n",
    "    columns = row.strip().split(\",\")\n",
    "    \n",
    "    if columns[0] == banglish:\n",
    "        returned_word = columns[1]\n",
    "        print(returned_word)\n",
    "        b2b_notfound = 0\n",
    "        break\n",
    "if(b2b_notfound == 1):\n",
    "    print(\"This word not found in database!\")"
   ]
  },
  {
   "cell_type": "markdown",
   "id": "0225885f",
   "metadata": {},
   "source": [
    "## Split data :"
   ]
  },
  {
   "cell_type": "code",
   "execution_count": 7,
   "id": "c1d5fae1",
   "metadata": {},
   "outputs": [
    {
     "name": "stdout",
     "output_type": "stream",
     "text": [
      "ri\n",
      "t\n",
      "u\n"
     ]
    }
   ],
   "source": [
    "Banglish = list(banglish)\n",
    "count = 0\n",
    "cunt = 0\n",
    "draftBan = ['','','','','','','','','','','','','','','','','','','','','','']\n",
    "con = \"bcdfghjklmnpqrstvwxyz\"\n",
    "vow = \"aeiou\"\n",
    "for x in Banglish:\n",
    "    if(cunt == 0):\n",
    "        #print(\"Yes\")\n",
    "        draftBan[count] = draftBan[count] + x\n",
    "    elif(cunt == 1):\n",
    "        if((x == 'i') and (Banglish[0] == 'r')):\n",
    "            draftBan[count] = draftBan[count] + x\n",
    "        elif(((x in vow) and (Banglish[0] in vow)) or ((x in con) and (Banglish[0] in con))):\n",
    "            draftBan[count] = draftBan[count] + x\n",
    "        else:\n",
    "            count = count + 1\n",
    "            draftBan[count] = draftBan[count] + x\n",
    "    else:\n",
    "        if((Banglish[cunt] in vow) and (Banglish[cunt-1] in vow)):\n",
    "            draftBan[count] = draftBan[count] + x\n",
    "        elif((Banglish[cunt] in con) and (Banglish[cunt-1] in vow)):\n",
    "            if((x == 'i') and (Banglish[0] == 'r')):\n",
    "                draftBan[count] = draftBan[count] + x\n",
    "            else:\n",
    "                count = count + 1\n",
    "                draftBan[count] = draftBan[count] + x\n",
    "        elif((Banglish[cunt] in vow) and (Banglish[cunt-1] in con)):\n",
    "            count = count + 1\n",
    "            draftBan[count] = draftBan[count] + x\n",
    "        elif((Banglish[cunt-1] == 'g') and (Banglish[cunt-2] == 'n')):\n",
    "            count = count + 1\n",
    "            draftBan[count] = draftBan[count] + x\n",
    "        else:\n",
    "            draftBan[count] = draftBan[count] + x\n",
    "    cunt = cunt + 1\n",
    "for x in draftBan:\n",
    "    if(x != \"\"):\n",
    "        print(x)"
   ]
  },
  {
   "cell_type": "markdown",
   "id": "1393e205",
   "metadata": {},
   "source": [
    "## Try to generate a (one or more then one) bangla word:"
   ]
  },
  {
   "cell_type": "code",
   "execution_count": 8,
   "id": "b4f2e520",
   "metadata": {},
   "outputs": [
    {
     "name": "stdout",
     "output_type": "stream",
     "text": [
      "no\n",
      "a\n",
      "aa\n",
      "i\n",
      "ii\n",
      "u\n",
      "uu\n",
      "oo\n",
      "ri\n",
      "e\n",
      "oi\n",
      "o\n",
      "ou\n",
      "k\n",
      "kh\n",
      "g\n",
      "gh\n",
      "anga\n",
      "c\n",
      "ch\n",
      "j\n",
      "jh\n",
      "eyan\n"
     ]
    }
   ],
   "source": [
    "cu = 0\n",
    "for z in draftBan:\n",
    "    if((len(z)) == 2):\n",
    "        if(z in data[cu][0]):\n",
    "            print(\"yes\")\n",
    "        else:\n",
    "            print(\"no\")\n",
    "    print(data[cu][0])\n",
    "    cu += 1"
   ]
  },
  {
   "cell_type": "code",
   "execution_count": 9,
   "id": "7ee45efa",
   "metadata": {},
   "outputs": [
    {
     "data": {
      "text/plain": [
       "'ৃতু'"
      ]
     },
     "execution_count": 9,
     "metadata": {},
     "output_type": "execute_result"
    }
   ],
   "source": [
    "generate_error = 0\n",
    "results = \"\"\n",
    "for y in draftBan:\n",
    "    if(y != \"\"):\n",
    "        if y in col:\n",
    "            for x in range(0,len(data)):\n",
    "                if y == data[x][0]:\n",
    "                    results = results + data[x][1]\n",
    "        else:\n",
    "            generate_error = 1\n",
    "if(generate_error == 1):\n",
    "    print(\"Cann't create properly\")\n",
    "results"
   ]
  },
  {
   "cell_type": "markdown",
   "id": "bca5be81",
   "metadata": {},
   "source": [
    "## Check and matching input text with database data."
   ]
  },
  {
   "cell_type": "code",
   "execution_count": 10,
   "id": "19b10d41",
   "metadata": {},
   "outputs": [
    {
     "name": "stdout",
     "output_type": "stream",
     "text": [
      "False\n",
      "False\n",
      "False\n",
      "False\n"
     ]
    }
   ],
   "source": [
    "if((results in bwl_40) or (results in bwl_48) or (results in bwl_112) or (results in bwl_439)):\n",
    "    checkb2b = 1\n",
    "print(results in bwl_40)\n",
    "print(results in bwl_48)\n",
    "print(results in bwl_112)\n",
    "print(results in bwl_439)"
   ]
  },
  {
   "cell_type": "markdown",
   "id": "c30e11f0",
   "metadata": {},
   "source": [
    "## If success: Add this data in B2B database :"
   ]
  },
  {
   "cell_type": "raw",
   "id": "bd0bbb3d",
   "metadata": {},
   "source": [
    "addline = [banglish, results]\n",
    "\n",
    "b2bdata=[]\n",
    "f = r'./data/ben2bn.csv'\n",
    "\n",
    "with open(f,encoding='utf-8-sig') as csvfile:\n",
    "    reader = csv.reader(csvfile)\n",
    "    for row in reader:\n",
    "        b2bdata.append(row)\n",
    "        \n",
    "b2bdata.append(addline)\n",
    "\n",
    "if(checkb2b == 1 and b2b_notfound == 1):\n",
    "    with open('./data/ben2bn.csv', 'w',encoding='utf-8-sig', newline='') as csvfile:\n",
    "        writer = csv.writer(csvfile)\n",
    "        for row in b2bdata:\n",
    "            writer.writerow(row)\n",
    "            checkb2b = 1"
   ]
  }
 ],
 "metadata": {
  "kernelspec": {
   "display_name": "Python 3 (ipykernel)",
   "language": "python",
   "name": "python3"
  },
  "language_info": {
   "codemirror_mode": {
    "name": "ipython",
    "version": 3
   },
   "file_extension": ".py",
   "mimetype": "text/x-python",
   "name": "python",
   "nbconvert_exporter": "python",
   "pygments_lexer": "ipython3",
   "version": "3.9.13"
  }
 },
 "nbformat": 4,
 "nbformat_minor": 5
}
